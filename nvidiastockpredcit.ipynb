{
  "nbformat": 4,
  "nbformat_minor": 0,
  "metadata": {
    "colab": {
      "name": "nvidiastockpredcit.ipynb",
      "version": "0.3.2",
      "provenance": [],
      "include_colab_link": true
    },
    "kernelspec": {
      "name": "python3",
      "display_name": "Python 3"
    }
  },
  "cells": [
    {
      "cell_type": "markdown",
      "metadata": {
        "id": "view-in-github",
        "colab_type": "text"
      },
      "source": [
        "<a href=\"https://colab.research.google.com/github/Elathius/nvidiapredict/blob/master/nvidiastockpredcit.ipynb\" target=\"_parent\"><img src=\"https://colab.research.google.com/assets/colab-badge.svg\" alt=\"Open In Colab\"/></a>"
      ]
    },
    {
      "cell_type": "code",
      "metadata": {
        "id": "lpPzDMY8kOSB",
        "colab_type": "code",
        "colab": {}
      },
      "source": [
        ""
      ],
      "execution_count": 0,
      "outputs": []
    },
    {
      "cell_type": "code",
      "metadata": {
        "id": "ApVILABElBuM",
        "colab_type": "code",
        "colab": {}
      },
      "source": [
        "# Import necessary packages\n",
        "import numpy as np\n",
        "import pandas as pd\n",
        "import datetime\n",
        "import pandas_datareader.data as web\n",
        "from pandas import Series, DataFrame\n",
        "\n",
        "import matplotlib.pyplot as plt\n",
        "\n",
        "import sklearn\n",
        "from sklearn.linear_model import Ridge, LinearRegression, Lasso\n",
        "from sklearn.ensemble import GradientBoostingRegressor\n",
        "from sklearn.preprocessing import MinMaxScaler, PolynomialFeatures\n",
        "from sklearn import metrics\n"
      ],
      "execution_count": 0,
      "outputs": []
    },
    {
      "cell_type": "code",
      "metadata": {
        "id": "Q1424DATl4Bw",
        "colab_type": "code",
        "outputId": "2be2f6b7-4695-4dc3-85a2-a0872857cd34",
        "colab": {
          "base_uri": "https://localhost:8080/",
          "height": 235
        }
      },
      "source": [
        "start = datetime.datetime(2017, 1, 1)\n",
        "end = datetime.datetime(2019, 1, 11)\n",
        "\n",
        "\n",
        "df = web.DataReader(\"NVDA\", 'yahoo', start, end)\n",
        "\n",
        "#df = pd.read_csv('NVDA.csv')\n",
        "#df.set_index('Date', inplace = True)\n",
        "df.tail()\n"
      ],
      "execution_count": 146,
      "outputs": [
        {
          "output_type": "execute_result",
          "data": {
            "text/html": [
              "<div>\n",
              "<style scoped>\n",
              "    .dataframe tbody tr th:only-of-type {\n",
              "        vertical-align: middle;\n",
              "    }\n",
              "\n",
              "    .dataframe tbody tr th {\n",
              "        vertical-align: top;\n",
              "    }\n",
              "\n",
              "    .dataframe thead th {\n",
              "        text-align: right;\n",
              "    }\n",
              "</style>\n",
              "<table border=\"1\" class=\"dataframe\">\n",
              "  <thead>\n",
              "    <tr style=\"text-align: right;\">\n",
              "      <th></th>\n",
              "      <th>High</th>\n",
              "      <th>Low</th>\n",
              "      <th>Open</th>\n",
              "      <th>Close</th>\n",
              "      <th>Volume</th>\n",
              "      <th>Adj Close</th>\n",
              "    </tr>\n",
              "    <tr>\n",
              "      <th>Date</th>\n",
              "      <th></th>\n",
              "      <th></th>\n",
              "      <th></th>\n",
              "      <th></th>\n",
              "      <th></th>\n",
              "      <th></th>\n",
              "    </tr>\n",
              "  </thead>\n",
              "  <tbody>\n",
              "    <tr>\n",
              "      <th>2019-01-07</th>\n",
              "      <td>144.889999</td>\n",
              "      <td>136.429993</td>\n",
              "      <td>138.500000</td>\n",
              "      <td>143.399994</td>\n",
              "      <td>17729000.0</td>\n",
              "      <td>142.947525</td>\n",
              "    </tr>\n",
              "    <tr>\n",
              "      <th>2019-01-08</th>\n",
              "      <td>146.779999</td>\n",
              "      <td>136.899994</td>\n",
              "      <td>146.690002</td>\n",
              "      <td>139.830002</td>\n",
              "      <td>19650400.0</td>\n",
              "      <td>139.388794</td>\n",
              "    </tr>\n",
              "    <tr>\n",
              "      <th>2019-01-09</th>\n",
              "      <td>144.490005</td>\n",
              "      <td>139.860001</td>\n",
              "      <td>141.899994</td>\n",
              "      <td>142.580002</td>\n",
              "      <td>15431500.0</td>\n",
              "      <td>142.130142</td>\n",
              "    </tr>\n",
              "    <tr>\n",
              "      <th>2019-01-10</th>\n",
              "      <td>145.580002</td>\n",
              "      <td>139.360001</td>\n",
              "      <td>141.800003</td>\n",
              "      <td>145.229996</td>\n",
              "      <td>13078900.0</td>\n",
              "      <td>144.771759</td>\n",
              "    </tr>\n",
              "    <tr>\n",
              "      <th>2019-01-11</th>\n",
              "      <td>149.750000</td>\n",
              "      <td>143.210007</td>\n",
              "      <td>144.330002</td>\n",
              "      <td>148.830002</td>\n",
              "      <td>21869100.0</td>\n",
              "      <td>148.360397</td>\n",
              "    </tr>\n",
              "  </tbody>\n",
              "</table>\n",
              "</div>"
            ],
            "text/plain": [
              "                  High         Low  ...      Volume   Adj Close\n",
              "Date                                ...                        \n",
              "2019-01-07  144.889999  136.429993  ...  17729000.0  142.947525\n",
              "2019-01-08  146.779999  136.899994  ...  19650400.0  139.388794\n",
              "2019-01-09  144.490005  139.860001  ...  15431500.0  142.130142\n",
              "2019-01-10  145.580002  139.360001  ...  13078900.0  144.771759\n",
              "2019-01-11  149.750000  143.210007  ...  21869100.0  148.360397\n",
              "\n",
              "[5 rows x 6 columns]"
            ]
          },
          "metadata": {
            "tags": []
          },
          "execution_count": 146
        }
      ]
    },
    {
      "cell_type": "code",
      "metadata": {
        "id": "5XmrJ-Glbet7",
        "colab_type": "code",
        "colab": {
          "base_uri": "https://localhost:8080/",
          "height": 298
        },
        "outputId": "e7c07702-7f02-40a0-af29-d195f252eec6"
      },
      "source": [
        "\n",
        "df[\"Adj Close\"].plot()\n",
        "df.shape"
      ],
      "execution_count": 147,
      "outputs": [
        {
          "output_type": "execute_result",
          "data": {
            "text/plain": [
              "(510, 6)"
            ]
          },
          "metadata": {
            "tags": []
          },
          "execution_count": 147
        },
        {
          "output_type": "display_data",
          "data": {
            "image/png": "[encoded data removed]",
            "text/plain": [
              "<Figure size 432x288 with 1 Axes>"
            ]
          },
          "metadata": {
            "tags": []
          }
        }
      ]
    },
    {
      "cell_type": "code",
      "metadata": {
        "id": "IqMlGYp9l9nv",
        "colab_type": "code",
        "colab": {}
      },
      "source": [
        "window_size=32\n",
        "num_samples=len(df)-window_size\n",
        "\n",
        "# Get indices of access for the data\n",
        "indices=np.arange(num_samples).astype(np.int)[:,None]+np.arange(window_size+1).astype(np.int)\n",
        "\n",
        "\n",
        "data = df['Adj Close'].values[indices] # Create the 2D matrix of training samples\n",
        "x = data[:,:-1] # Each row represents 32 days in the past\n",
        "y = data[:,-1] # Each output value represents the 33rd day\n",
        "\n",
        "\n",
        "split_fraction=0.75\n",
        "ind_split=int(split_fraction*num_samples)\n",
        "\n",
        "\n",
        "x_train = x[:ind_split]\n",
        "y_train = y[:ind_split]\n",
        "x_test = x[ind_split:]\n",
        "y_test = y[ind_split:]\n",
        "\n",
        "x_train_orig = x_train"
      ],
      "execution_count": 0,
      "outputs": []
    },
    {
      "cell_type": "markdown",
      "metadata": {
        "id": "MmuPSzIFmyNR",
        "colab_type": "text"
      },
      "source": [
        "**Performance functions:**"
      ]
    },
    {
      "cell_type": "code",
      "metadata": {
        "id": "lGzjAB0Jm5kT",
        "colab_type": "code",
        "colab": {}
      },
      "source": [
        "def performance(model):\n",
        "  print(\"MAE :\", metrics.mean_absolute_error(y_test,model).round(5))\n",
        "  print(\"MSE :\", metrics.mean_squared_error(y_test,model).round(5))\n",
        "  print(\"RMSE:\", np.sqrt(metrics.mean_squared_error(y_test,model)).round(5))\n",
        "  \n",
        "def perfplot (model,colr='gray',linecolr='red'):\n",
        "  plt.scatter(model, y_test, color=colr)\n",
        "  plt.plot(y_test, y_test, color=linecolr, linewidth=2)\n",
        "  \n",
        "def compareall(modelone,model):\n",
        "  print(\"Percent difference from baseline metrics: Lower is better (Error minimizing)\")\n",
        "  print(\"MAE % :\", (metrics.mean_absolute_error(y_test,modelone).round(5)/ metrics.mean_absolute_error(y_test,model).round(5) )*100 )\n",
        "  print(\"MSE % :\", (metrics.mean_squared_error(y_test,modelone).round(5) / metrics.mean_squared_error(y_test,model).round(5) )*100 )\n",
        "  print(\"RMSE %:\", (np.sqrt( metrics.mean_absolute_error(y_test,modelone) )/np.sqrt( metrics.mean_absolute_error(y_test,model) )*100).round(5))"
      ],
      "execution_count": 0,
      "outputs": []
    },
    {
      "cell_type": "code",
      "metadata": {
        "id": "iiaYazVooLb4",
        "colab_type": "code",
        "colab": {}
      },
      "source": [
        "ypredlag = np.roll(y_test,1)"
      ],
      "execution_count": 0,
      "outputs": []
    },
    {
      "cell_type": "markdown",
      "metadata": {
        "id": "h-skv8npogje",
        "colab_type": "text"
      },
      "source": [
        "Base line metrics:"
      ]
    },
    {
      "cell_type": "code",
      "metadata": {
        "id": "N6ma5hE9oQMj",
        "colab_type": "code",
        "outputId": "fc33bd90-8240-4da1-d32a-49198dcdfce1",
        "colab": {
          "base_uri": "https://localhost:8080/",
          "height": 68
        }
      },
      "source": [
        "performance(ypredlag)"
      ],
      "execution_count": 151,
      "outputs": [
        {
          "output_type": "stream",
          "text": [
            "MAE : 6.11452\n",
            "MSE : 139.10746\n",
            "RMSE: 11.79438\n"
          ],
          "name": "stdout"
        }
      ]
    },
    {
      "cell_type": "code",
      "metadata": {
        "id": "nVqC4MYEoTTt",
        "colab_type": "code",
        "outputId": "5375f35a-0a8a-4321-aeda-cffbbcc65ded",
        "colab": {
          "base_uri": "https://localhost:8080/",
          "height": 269
        }
      },
      "source": [
        "perfplot(ypredlag)"
      ],
      "execution_count": 152,
      "outputs": [
        {
          "output_type": "display_data",
          "data": {
            "image/png": "[encoded data removed]",
            "text/plain": [
              "<Figure size 432x288 with 1 Axes>"
            ]
          },
          "metadata": {
            "tags": []
          }
        }
      ]
    },
    {
      "cell_type": "code",
      "metadata": {
        "id": "TFporBgHoZ9L",
        "colab_type": "code",
        "outputId": "750390e7-0689-449b-dce1-b56b91c1077c",
        "colab": {
          "base_uri": "https://localhost:8080/",
          "height": 34
        }
      },
      "source": [
        "modellinear = LinearRegression()\n",
        "modellinear.fit(x_train,y_train)"
      ],
      "execution_count": 153,
      "outputs": [
        {
          "output_type": "execute_result",
          "data": {
            "text/plain": [
              "LinearRegression(copy_X=True, fit_intercept=True, n_jobs=None, normalize=False)"
            ]
          },
          "metadata": {
            "tags": []
          },
          "execution_count": 153
        }
      ]
    },
    {
      "cell_type": "code",
      "metadata": {
        "id": "440aj-mIo3xq",
        "colab_type": "code",
        "colab": {}
      },
      "source": [
        "ypredlinear = modellinear.predict(x_test)"
      ],
      "execution_count": 0,
      "outputs": []
    },
    {
      "cell_type": "code",
      "metadata": {
        "id": "LuFM9cavpNae",
        "colab_type": "code",
        "outputId": "52e4dc48-24c9-45eb-b8a2-b84f296d0b9a",
        "colab": {
          "base_uri": "https://localhost:8080/",
          "height": 68
        }
      },
      "source": [
        "performance(ypredlinear)"
      ],
      "execution_count": 155,
      "outputs": [
        {
          "output_type": "stream",
          "text": [
            "MAE : 5.84323\n",
            "MSE : 69.84169\n",
            "RMSE: 8.35713\n"
          ],
          "name": "stdout"
        }
      ]
    },
    {
      "cell_type": "markdown",
      "metadata": {
        "id": "1eO0Sb4EtCEo",
        "colab_type": "text"
      },
      "source": [
        "Ridge Regression"
      ]
    },
    {
      "cell_type": "code",
      "metadata": {
        "id": "DD1ZEm9QpQSo",
        "colab_type": "code",
        "colab": {}
      },
      "source": [
        "modelridge = Ridge()\n",
        "modelridge.fit(x_train,y_train)\n",
        "\n",
        "ypredridge = modelridge.predict(x_test)"
      ],
      "execution_count": 0,
      "outputs": []
    },
    {
      "cell_type": "code",
      "metadata": {
        "id": "A7_wxrwGu-rx",
        "colab_type": "code",
        "outputId": "f3b917b2-aaa3-4a67-8962-38223c6dfa74",
        "colab": {
          "base_uri": "https://localhost:8080/",
          "height": 320
        }
      },
      "source": [
        "performance(ypredridge)\n",
        "perfplot(ypredridge)"
      ],
      "execution_count": 157,
      "outputs": [
        {
          "output_type": "stream",
          "text": [
            "MAE : 5.84308\n",
            "MSE : 69.84092\n",
            "RMSE: 8.35709\n"
          ],
          "name": "stdout"
        },
        {
          "output_type": "display_data",
          "data": {
            "image/png": "[encoded data removed]",
            "text/plain": [
              "<Figure size 432x288 with 1 Axes>"
            ]
          },
          "metadata": {
            "tags": []
          }
        }
      ]
    },
    {
      "cell_type": "code",
      "metadata": {
        "id": "XR0I4BPnvD0M",
        "colab_type": "code",
        "colab": {}
      },
      "source": [
        "modellasso = Lasso()\n",
        "modellasso.fit(x_train,y_train)\n",
        "\n",
        "ypredlasso = modellasso.predict(x_test)\n"
      ],
      "execution_count": 0,
      "outputs": []
    },
    {
      "cell_type": "code",
      "metadata": {
        "id": "3ieDJtgxvfne",
        "colab_type": "code",
        "outputId": "c5293759-63c5-4d75-cf40-5752ef675a26",
        "colab": {
          "base_uri": "https://localhost:8080/",
          "height": 320
        }
      },
      "source": [
        "performance(ypredlasso)\n",
        "perfplot(ypredlasso)"
      ],
      "execution_count": 159,
      "outputs": [
        {
          "output_type": "stream",
          "text": [
            "MAE : 5.56354\n",
            "MSE : 64.21149\n",
            "RMSE: 8.01321\n"
          ],
          "name": "stdout"
        },
        {
          "output_type": "display_data",
          "data": {
            "image/png": "[encoded data removed]",
            "text/plain": [
              "<Figure size 432x288 with 1 Axes>"
            ]
          },
          "metadata": {
            "tags": []
          }
        }
      ]
    },
    {
      "cell_type": "markdown",
      "metadata": {
        "id": "rqoAoYmbrGPy",
        "colab_type": "text"
      },
      "source": [
        "Polynomial Regression:"
      ]
    },
    {
      "cell_type": "code",
      "metadata": {
        "id": "CHOtwTsYx2GU",
        "colab_type": "code",
        "colab": {
          "base_uri": "https://localhost:8080/",
          "height": 34
        },
        "outputId": "105a683a-0ec2-4112-8403-36c7139747e9"
      },
      "source": [
        "modelpoly = PolynomialFeatures(degree = 2)\n",
        "modelpoly.fit_transform(x_train)\n",
        "\n",
        "modellinear.fit(x_train,y_train)\n"
      ],
      "execution_count": 160,
      "outputs": [
        {
          "output_type": "execute_result",
          "data": {
            "text/plain": [
              "LinearRegression(copy_X=True, fit_intercept=True, n_jobs=None, normalize=False)"
            ]
          },
          "metadata": {
            "tags": []
          },
          "execution_count": 160
        }
      ]
    },
    {
      "cell_type": "code",
      "metadata": {
        "id": "BIzjC6-DzkvX",
        "colab_type": "code",
        "colab": {
          "base_uri": "https://localhost:8080/",
          "height": 136
        },
        "outputId": "804abde1-c2a1-4883-cbb9-ebf87e58781f"
      },
      "source": [
        "ypredpoly = modellinear.predict(x_test)\n",
        "print(x_test[0])"
      ],
      "execution_count": 161,
      "outputs": [
        {
          "output_type": "stream",
          "text": [
            "[263.90481567 261.66540527 261.04830933 259.39605713 261.34686279\n",
            " 261.16775513 265.65658569 264.01431274 263.84509277 258.94824219\n",
            " 261.07818604 255.90260315 249.77151489 237.99705505 240.85359192\n",
            " 234.61302185 239.72889709 235.78749084 241.10240173 235.7277832\n",
            " 241.59010315 246.16851807 248.07948303 252.06069946 246.36756897\n",
            " 250.05018616 248.14918518 247.03442383 252.49865723 250.51797485\n",
            " 250.84645081 249.71180725]\n"
          ],
          "name": "stdout"
        }
      ]
    },
    {
      "cell_type": "code",
      "metadata": {
        "id": "hBv_n3kyzxoF",
        "colab_type": "code",
        "colab": {
          "base_uri": "https://localhost:8080/",
          "height": 68
        },
        "outputId": "aec9b0b7-9545-4884-e3be-cb33f4128f87"
      },
      "source": [
        "performance(ypredpoly)"
      ],
      "execution_count": 162,
      "outputs": [
        {
          "output_type": "stream",
          "text": [
            "MAE : 5.84323\n",
            "MSE : 69.84169\n",
            "RMSE: 8.35713\n"
          ],
          "name": "stdout"
        }
      ]
    },
    {
      "cell_type": "code",
      "metadata": {
        "id": "lM7KnkGsxyuQ",
        "colab_type": "code",
        "colab": {
          "base_uri": "https://localhost:8080/",
          "height": 269
        },
        "outputId": "c54ecf00-c03e-4b2c-bb78-4984ee13511d"
      },
      "source": [
        "perfplot(ypredpoly)"
      ],
      "execution_count": 163,
      "outputs": [
        {
          "output_type": "display_data",
          "data": {
            "image/png": "[encoded data removed]",
            "text/plain": [
              "<Figure size 432x288 with 1 Axes>"
            ]
          },
          "metadata": {
            "tags": []
          }
        }
      ]
    },
    {
      "cell_type": "markdown",
      "metadata": {
        "id": "t3VzDvhTW9gt",
        "colab_type": "text"
      },
      "source": [
        "Gradient Boosting:"
      ]
    },
    {
      "cell_type": "code",
      "metadata": {
        "id": "c3lbjm7YwicS",
        "colab_type": "code",
        "colab": {
          "base_uri": "https://localhost:8080/",
          "height": 320
        },
        "outputId": "55504820-bab8-45ac-e654-8fd6509fac1e"
      },
      "source": [
        "modelgbr = GradientBoostingRegressor()\n",
        "modelgbr.fit(x_train, y_train)\n",
        "\n",
        "ypredgbr = modelgbr.predict(x_test)\n",
        "\n",
        "performance(ypredgbr)\n",
        "perfplot(ypredgbr)"
      ],
      "execution_count": 164,
      "outputs": [
        {
          "output_type": "stream",
          "text": [
            "MAE : 12.10686\n",
            "MSE : 209.4408\n",
            "RMSE: 14.47207\n"
          ],
          "name": "stdout"
        },
        {
          "output_type": "display_data",
          "data": {
            "image/png": "[encoded data removed]",
            "text/plain": [
              "<Figure size 432x288 with 1 Axes>"
            ]
          },
          "metadata": {
            "tags": []
          }
        }
      ]
    },
    {
      "cell_type": "markdown",
      "metadata": {
        "id": "fd9qc4_PO3rE",
        "colab_type": "text"
      },
      "source": [
        "Comparision:"
      ]
    },
    {
      "cell_type": "code",
      "metadata": {
        "id": "g_8p4RRbO5Wu",
        "colab_type": "code",
        "colab": {
          "base_uri": "https://localhost:8080/",
          "height": 269
        },
        "outputId": "e5b28f00-442e-4d7e-b475-40c7b28179dc"
      },
      "source": [
        "perfplot(ypredlinear,colr='blue')\n",
        "perfplot(ypredridge,colr= 'green')\n",
        "perfplot(ypredlasso, colr='purple')\n",
        "perfplot(ypredpoly, colr='pink')\n",
        "perfplot(ypredgbr, colr='yellow')"
      ],
      "execution_count": 165,
      "outputs": [
        {
          "output_type": "display_data",
          "data": {
            "image/png": "[encoded data removed]",
            "text/plain": [
              "<Figure size 432x288 with 1 Axes>"
            ]
          },
          "metadata": {
            "tags": []
          }
        }
      ]
    },
    {
      "cell_type": "code",
      "metadata": {
        "id": "SCnEla_sPBxV",
        "colab_type": "code",
        "colab": {
          "base_uri": "https://localhost:8080/",
          "height": 85
        },
        "outputId": "52fdcf02-7610-4168-89d6-e32ea4255ce9"
      },
      "source": [
        "#Linear\n",
        "compareall(ypredlinear,ypredlag)"
      ],
      "execution_count": 166,
      "outputs": [
        {
          "output_type": "stream",
          "text": [
            "Percent difference from baseline metrics: Lower is better (Error minimizing)\n",
            "MAE % : 95.56318402752792\n",
            "MSE % : 50.20700543306592\n",
            "RMSE %: 97.75642\n"
          ],
          "name": "stdout"
        }
      ]
    },
    {
      "cell_type": "code",
      "metadata": {
        "id": "eL5FVeCqZc3Z",
        "colab_type": "code",
        "colab": {
          "base_uri": "https://localhost:8080/",
          "height": 85
        },
        "outputId": "af7ae08f-caa8-4429-fc71-62c64e811fb0"
      },
      "source": [
        "#Ridge\n",
        "compareall(ypredridge,ypredlag)"
      ],
      "execution_count": 167,
      "outputs": [
        {
          "output_type": "stream",
          "text": [
            "Percent difference from baseline metrics: Lower is better (Error minimizing)\n",
            "MAE % : 95.56073085050012\n",
            "MSE % : 50.206451904161\n",
            "RMSE %: 97.75512\n"
          ],
          "name": "stdout"
        }
      ]
    },
    {
      "cell_type": "code",
      "metadata": {
        "id": "3k_Q3v5OaZtc",
        "colab_type": "code",
        "colab": {
          "base_uri": "https://localhost:8080/",
          "height": 85
        },
        "outputId": "74b55f8a-c47b-498e-e7c0-b8428a014cb2"
      },
      "source": [
        "#Lasso\n",
        "compareall(ypredlasso,ypredlag)"
      ],
      "execution_count": 168,
      "outputs": [
        {
          "output_type": "stream",
          "text": [
            "Percent difference from baseline metrics: Lower is better (Error minimizing)\n",
            "MAE % : 90.98899014149924\n",
            "MSE % : 46.15963083503933\n",
            "RMSE %: 95.38811\n"
          ],
          "name": "stdout"
        }
      ]
    },
    {
      "cell_type": "code",
      "metadata": {
        "id": "Jq0G_tC2ahdE",
        "colab_type": "code",
        "colab": {
          "base_uri": "https://localhost:8080/",
          "height": 85
        },
        "outputId": "8fe67185-6aca-4aa4-cbda-26bd71449b02"
      },
      "source": [
        "#Poly\n",
        "compareall(ypredpoly,ypredlag)"
      ],
      "execution_count": 169,
      "outputs": [
        {
          "output_type": "stream",
          "text": [
            "Percent difference from baseline metrics: Lower is better (Error minimizing)\n",
            "MAE % : 95.56318402752792\n",
            "MSE % : 50.20700543306592\n",
            "RMSE %: 97.75642\n"
          ],
          "name": "stdout"
        }
      ]
    },
    {
      "cell_type": "code",
      "metadata": {
        "id": "Kuf9OVvfatNf",
        "colab_type": "code",
        "colab": {
          "base_uri": "https://localhost:8080/",
          "height": 85
        },
        "outputId": "9a330a29-4cb2-4491-8be5-509049896d6f"
      },
      "source": [
        "#GradientBoosting\n",
        "compareall(ypredgbr,ypredlag)"
      ],
      "execution_count": 170,
      "outputs": [
        {
          "output_type": "stream",
          "text": [
            "Percent difference from baseline metrics: Lower is better (Error minimizing)\n",
            "MAE % : 198.00180553829244\n",
            "MSE % : 150.56043723320084\n",
            "RMSE %: 140.71304\n"
          ],
          "name": "stdout"
        }
      ]
    },
    {
      "cell_type": "code",
      "metadata": {
        "id": "YoJGOOBpax3e",
        "colab_type": "code",
        "colab": {}
      },
      "source": [
        ""
      ],
      "execution_count": 0,
      "outputs": []
    }
  ]
}